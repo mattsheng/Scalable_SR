{
 "cells": [
  {
   "cell_type": "code",
   "execution_count": 1,
   "metadata": {},
   "outputs": [],
   "source": [
    "import os\n",
    "import json\n",
    "import pandas as pd\n",
    "import pyarrow.feather as feather\n",
    "import numpy as np"
   ]
  },
  {
   "cell_type": "code",
   "execution_count": 2,
   "metadata": {},
   "outputs": [],
   "source": [
    "def json_to_dataframe(path):\n",
    "    # Initialize an empty list to store data from JSON files\n",
    "    data_list = []\n",
    "\n",
    "    # Traverse through all subdirectories and files\n",
    "    for root, dirs, files in os.walk(path):\n",
    "        for file in files:\n",
    "            if file.endswith(\".json\"):\n",
    "                # Construct the full path to the JSON file\n",
    "                file_path = os.path.join(root, file)\n",
    "\n",
    "                # Read data from the JSON file\n",
    "                with open(file_path, \"r\") as json_file:\n",
    "                    json_data = json.load(json_file)\n",
    "                    if \"symbolic_model\" in json_data:\n",
    "                        if isinstance(json_data[\"symbolic_model\"], list):\n",
    "                            sm = [\n",
    "                                \"B\" + str(i) + \"*\" + ri\n",
    "                                for i, ri in enumerate(json_data[\"symbolic_model\"])\n",
    "                            ]\n",
    "                            sm = \"+\".join(sm)\n",
    "                            json_data[\"symbolic_model\"] = sm\n",
    "\n",
    "                    # Append the data to the list\n",
    "                    data_list.append(json_data)\n",
    "\n",
    "    # Create a DataFrame from the list of JSON data\n",
    "    df = pd.DataFrame(data_list)\n",
    "    df.rename(columns={\"dataset\": \"dataset_name\"}, inplace=True)\n",
    "    return df"
   ]
  },
  {
   "cell_type": "markdown",
   "metadata": {},
   "source": [
    "## BART Permutation"
   ]
  },
  {
   "cell_type": "code",
   "execution_count": null,
   "metadata": {},
   "outputs": [],
   "source": [
    "feynman_BART_perm = json_to_dataframe(os.path.normpath(\"../results_feynman/BART_perm\"))\n",
    "feynman_BART_perm[\"idx_local\"] = feynman_BART_perm[\"idx_local\"].apply(\n",
    "    lambda x: [] if x == [\"NA\"] else x\n",
    ")\n",
    "feynman_BART_perm[\"idx_gmax\"] = feynman_BART_perm[\"idx_gmax\"].apply(\n",
    "    lambda x: [] if x == [\"NA\"] else x\n",
    ")\n",
    "feynman_BART_perm[\"idx_gse\"] = feynman_BART_perm[\"idx_gse\"].apply(\n",
    "    lambda x: [] if x == [\"NA\"] else x\n",
    ")\n",
    "\n",
    "feather.write_feather(\n",
    "    feynman_BART_perm,\n",
    "    os.path.normpath(\"../results_feynman/feynman_BART_perm.feather\"),\n",
    ")"
   ]
  },
  {
   "cell_type": "markdown",
   "metadata": {},
   "source": [
    "## BART VIP Ranking"
   ]
  },
  {
   "cell_type": "code",
   "execution_count": null,
   "metadata": {},
   "outputs": [],
   "source": [
    "feynman_BART_VIP = json_to_dataframe(os.path.normpath(\"../results_feynman/BART_VIP\"))\n",
    "feather.write_feather(\n",
    "    feynman_BART_VIP,\n",
    "    os.path.normpath(\"../results_feynman/feynman_BART_VIP_withidx.feather\"),\n",
    ")"
   ]
  },
  {
   "cell_type": "markdown",
   "metadata": {},
   "source": [
    "## SR"
   ]
  },
  {
   "cell_type": "code",
   "execution_count": null,
   "metadata": {},
   "outputs": [],
   "source": [
    "feynman_SR = json_to_dataframe(os.path.normpath(\"../results_feynman/SR\"))\n",
    "\n",
    "# clean up\n",
    "feynman_SR.loc[:, \"training_time_hr\"] = feynman_SR[\"time_time\"] / 3600\n",
    "feynman_SR[\"r2_zero_test\"] = feynman_SR[\"r2_test\"].apply(lambda x: max(x, 0))\n",
    "feynman_SR[\"algorithm\"] = feynman_SR[\"algorithm\"].apply(\n",
    "    lambda x: x.replace(\"Regressor\", \"\")\n",
    ")\n",
    "feynman_SR[\"algorithm\"] = feynman_SR[\"algorithm\"].apply(\n",
    "    lambda x: x.replace(\"regressor\", \"\")\n",
    ")\n",
    "feynman_SR[\"algorithm\"] = feynman_SR[\"algorithm\"].apply(\n",
    "    lambda x: x.replace(\"tuned.\", \"\")\n",
    ")\n",
    "feynman_SR[\"algorithm\"] = feynman_SR[\"algorithm\"].apply(\n",
    "    lambda x: x.replace(\".hclst_v2\", \"\")\n",
    ")\n",
    "feynman_SR[\"algorithm\"] = feynman_SR[\"algorithm\"].apply(\n",
    "    lambda x: x.replace(\"sembackpropgp\", \"SBP-GP\")\n",
    ")\n",
    "feynman_SR[\"algorithm\"] = feynman_SR[\"algorithm\"].apply(\n",
    "    lambda x: x.replace(\"FE_AFP\", \"AFP_FE\")\n",
    ")\n",
    "feynman_SR[\"algorithm\"] = feynman_SR[\"algorithm\"].apply(\n",
    "    lambda x: x.replace(\"GPGOMEA\", \"GP-GOMEA\")\n",
    ")\n",
    "\n",
    "# Update metrics with NaN whenever r2_train is NaN\n",
    "metric_col = [\"TP\", \"FP\", \"TN\", \"FN\", \"F1\"]\n",
    "feynman_SR.loc[feynman_SR[\"r2_train\"].isna(), metric_col] = np.nan\n",
    "\n",
    "feynman_SR"
   ]
  },
  {
   "cell_type": "markdown",
   "metadata": {},
   "source": [
    "## PAN+SR"
   ]
  },
  {
   "cell_type": "code",
   "execution_count": null,
   "metadata": {},
   "outputs": [],
   "source": [
    "feynman_SR_BART = json_to_dataframe(os.path.normpath(\"../results_feynman/SR_BART_VIP\"))\n",
    "\n",
    "# clean up\n",
    "feynman_SR_BART.loc[:, \"training_time_hr\"] = feynman_SR_BART[\"time_time\"] / 3600\n",
    "feynman_SR_BART[\"r2_zero_test\"] = feynman_SR_BART[\"r2_test\"].apply(lambda x: max(x, 0))\n",
    "feynman_SR_BART[\"algorithm\"] = feynman_SR_BART[\"algorithm\"].apply(\n",
    "    lambda x: x.replace(\"Regressor\", \"\")\n",
    ")\n",
    "feynman_SR_BART[\"algorithm\"] = feynman_SR_BART[\"algorithm\"].apply(\n",
    "    lambda x: x.replace(\"regressor\", \"\")\n",
    ")\n",
    "feynman_SR_BART[\"algorithm\"] = feynman_SR_BART[\"algorithm\"].apply(\n",
    "    lambda x: x.replace(\"tuned.\", \"\")\n",
    ")\n",
    "feynman_SR_BART[\"algorithm\"] = feynman_SR_BART[\"algorithm\"].apply(\n",
    "    lambda x: x.replace(\".hclst_v2\", \"\")\n",
    ")\n",
    "feynman_SR_BART[\"algorithm\"] = feynman_SR_BART[\"algorithm\"].apply(\n",
    "    lambda x: x.replace(\"sembackpropgp\", \"SBP-GP\")\n",
    ")\n",
    "feynman_SR_BART[\"algorithm\"] = feynman_SR_BART[\"algorithm\"].apply(\n",
    "    lambda x: x.replace(\"FE_AFP\", \"AFP_FE\")\n",
    ")\n",
    "feynman_SR_BART[\"algorithm\"] = feynman_SR_BART[\"algorithm\"].apply(\n",
    "    lambda x: x.replace(\"GPGOMEA\", \"GP-GOMEA\")\n",
    ")\n",
    "\n",
    "# Update metrics with NaN whenever r2_train is NaN\n",
    "metric_col = [\"TP\", \"FP\", \"TN\", \"FN\", \"F1\"]\n",
    "feynman_SR_BART.loc[feynman_SR_BART[\"r2_train\"].isna(), metric_col] = np.nan\n",
    "\n",
    "feynman_SR_BART"
   ]
  },
  {
   "cell_type": "code",
   "execution_count": 10,
   "metadata": {},
   "outputs": [],
   "source": [
    "feynman_results = pd.concat([feynman_SR, feynman_SR_BART], ignore_index=True)\n",
    "feynman_results\n",
    "\n",
    "feather.write_feather(\n",
    "    feynman_results,\n",
    "    os.path.normpath(\"../results_feynman/feynman_results.feather\"),\n",
    ")"
   ]
  }
 ],
 "metadata": {
  "kernelspec": {
   "display_name": "srbench",
   "language": "python",
   "name": "python3"
  },
  "language_info": {
   "codemirror_mode": {
    "name": "ipython",
    "version": 3
   },
   "file_extension": ".py",
   "mimetype": "text/x-python",
   "name": "python",
   "nbconvert_exporter": "python",
   "pygments_lexer": "ipython3",
   "version": "3.7.12"
  }
 },
 "nbformat": 4,
 "nbformat_minor": 2
}
